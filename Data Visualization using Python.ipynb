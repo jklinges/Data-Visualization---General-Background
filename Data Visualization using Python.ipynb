{
 "cells": [
  {
   "cell_type": "markdown",
   "metadata": {},
   "source": [
    "# **Extensive Analysis + Visualization with Python**\n",
    "\n",
    "In this kernel, I have conducted **Exploratory Data Analysis** or **EDA** of a dataset. **EDA** is a critical first step in analyzing a new dataset. The primary objective of EDA is to analyze the data for distribution, outliers and anomalies in the dataset. It enable us to direct specific testing of the hypothesis. It includes analysing the data to find the distribution of data, its main characteristics, identifying patterns and visualizations.  It also provides tools for hypothesis generation by visualizing and understanding the data through graphical representation.  "
   ]
  },
  {
   "cell_type": "markdown",
   "metadata": {},
   "source": [
    "<a class=\"anchor\" id=\"0.1\"></a>\n",
    "\n",
    "## Table of Contents\n",
    "\n",
    "\n",
    "The table of contents for this project are as follows: -\n",
    "\n",
    "1.\t[Introduction to EDA](#1)\n",
    "1.\t[Objectives of EDA](#2)\n",
    "1.\t[Types of EDA](#3)\n",
    "1.  [Import libraries](#4)\n",
    "1.\t[Import dataset](#5)\n",
    "1.\t[Exploratory data analysis](#6)\n",
    "      - [Check shape of the dataset](#6.1)\n",
    "\t  - [Preview the dataset](#6.2)\n",
    "\t  - [Summary of dataset](#6.3)\n",
    "      - [Dataset description](#6.4)\n",
    "      - [Check data types of columns](#6.5)\n",
    "      - [Important points about dataset](#6.6)\n",
    "      - [Statistical properties of dataset](#6.7)\n",
    "      - [View column names](#6.8)\n",
    "1.\t[Univariate analysis](#7)\n",
    "      - [Analysis of `target` feature variable](#7.1)\n",
    "      - [Findings of univariate analysis](#7.2)\n",
    "1.\t[Bivariate analysis](#8)\n",
    "      - [Estimate correlation coefficients](#8.1)\n",
    "      - [Analysis of `target` and `cp` variable](#8.2)\n",
    "      - [Analysis of `target` and `thalach` variable](#8.3)\n",
    "      - [Findings of bivariate analysis](#8.4)\n",
    "1.\t[Multivariate analysis](#9)\n",
    "      - [Heat Map](#9.1)\n",
    "      - [Pair Plot](#9.2)\n",
    "1.\t[Dealing with missing values](#10)\n",
    "      - [Pandas isnull() and notnull() functions](#10.1)\n",
    "      - [Useful commands to detect missing values](#10.2)\n",
    "1.\t[Check with ASSERT statement](#11)\n",
    "1.\t[Outlier detection](#12)\n",
    "1.\t[Conclusion](#13) \n",
    "1.\t[References](#14)\n",
    "\n"
   ]
  },
  {
   "cell_type": "markdown",
   "metadata": {},
   "source": [
    "## 1. Introduction to EDA <a class=\"anchor\" id=\"1\"></a>\n",
    "\n",
    "[Back to Table of Contents](#0.1)\n",
    "\n",
    "\n",
    "Several questions come to mind when we come across a new dataset.  The below list shed light on some of these questions:-\n",
    "\n",
    "•\tWhat is the distribution of the dataset?\n",
    "\n",
    "•\tAre there any missing numerical values, outliers or anomalies in the dataset?\n",
    "\n",
    "•\tWhat are the underlying assumptions in the dataset?\n",
    "\n",
    "•\tWhether there exists relationships between variables in the dataset?\n",
    "\n",
    "•\tHow to be sure that our dataset is ready for input in a machine learning algorithm?\n",
    "\n",
    "•\tHow to select the most suitable algorithm for a given dataset?\n",
    "\n",
    "So, how do we get answer to the above questions? \n",
    "\n",
    "\n",
    "The answer is **Exploratory Data Analysis**. It enable us to answer all of the above questions.\n"
   ]
  },
  {
   "cell_type": "markdown",
   "metadata": {},
   "source": [
    "## 2. Objectives of EDA <a class=\"anchor\" id=\"2\"></a>\n",
    "\n",
    "[Back to Table of Contents](#0.1)\n",
    "\n",
    "\n",
    "The objectives of the EDA are as follows:-\n",
    "\n",
    "i. To get an overview of the distribution of the dataset.\n",
    "\n",
    "ii. Check for missing numerical values, outliers or other anomalies in the dataset.\n",
    "\n",
    "iii.Discover patterns and relationships between variables in the dataset.\n",
    "\n",
    "iv. Check the underlying assumptions in the dataset.\n"
   ]
  },
  {
   "cell_type": "markdown",
   "metadata": {},
   "source": [
    "## 3. Types of EDA <a class=\"anchor\" id=\"3\"></a>\n",
    "\n",
    "[Back to Table of Contents](#0.1)\n",
    "\n",
    "EDA is generally cross-classified in two ways. First, each method is either non-graphical or graphical. Second, each method is either univariate or multivariate (usually bivariate).  The non-graphical methods provide insight into the characteristics and the distribution of the variable(s) of interest. So, non-graphical methods involve calculation of summary statistics while graphical methods include summarizing the data diagrammatically.\n",
    "\n",
    "\n",
    "There are four types of exploratory data analysis (EDA) based on the above cross-classification methods. Each of these types of EDA are described below:-\n",
    "\n",
    "\n",
    "#### i. Univariate non-graphical EDA\n",
    "\n",
    "The objective of the univariate non-graphical EDA is to understand the sample distribution and also to make some initial conclusions about population distributions. Outlier detection is also a part of this analysis.\n",
    "\n",
    "\n",
    "#### ii. Multivariate non-graphical EDA\n",
    "\n",
    "Multivariate non-graphical EDA techniques show the relationship between two or more variables in the form of either cross-tabulation or statistics.\n",
    "\n",
    "\n",
    "#### iii. Univariate graphical EDA\n",
    "\n",
    "In addition to finding the various sample statistics of univariate distribution (discussed above), we also look graphically at the distribution of the sample.  The non-graphical methods are quantitative and objective. They do not give full picture of the data. Hence, we need graphical methods, which are more qualitative in nature and presents an overview of the data. \n",
    "\n",
    "\n",
    "#### iv. Multivariate graphical EDA\n",
    "\n",
    "There are several useful multivariate graphical EDA techniques, which are used to look at the distribution of multivariate data. These are as follows:-\n",
    "\n",
    "- Side-by-Side Boxplots\n",
    "\n",
    "- Scatterplots\n",
    "\n",
    "- Heat Maps and 3-D Surface Plots\n"
   ]
  },
  {
   "cell_type": "markdown",
   "metadata": {},
   "source": [
    "Enough of theory, now let the journey begin.\n",
    "\n"
   ]
  },
  {
   "cell_type": "markdown",
   "metadata": {},
   "source": [
    "The first step in the EDA journey is to import the libraries."
   ]
  },
  {
   "cell_type": "markdown",
   "metadata": {},
   "source": [
    "## 4. Import libraries <a class=\"anchor\" id=\"4\"></a>\n",
    "\n",
    "[Back to Table of Contents](#0.1)"
   ]
  },
  {
   "cell_type": "code",
   "execution_count": null,
   "metadata": {
    "_cell_guid": "b1076dfc-b9ad-4769-8c92-a6c4dae69d19",
    "_uuid": "8f2839f25d086af736a60e9eeb907d3b93b6e0e5"
   },
   "outputs": [],
   "source": [
    "# This Python 3 environment comes with many helpful analytics libraries installed\n",
    "# It is defined by the kaggle/python docker image: https://github.com/kaggle/docker-python\n",
    "# For example, here's several helpful packages to load in \n",
    "\n",
    "import numpy as np # linear algebra\n",
    "import pandas as pd # data processing, CSV file I/O (e.g. pd.read_csv)\n",
    "\n",
    "# Input data files are available in the \"../input/\" directory.\n",
    "# For example, running this (by clicking run or pressing Shift+Enter) will list all files under the input directory\n",
    "\n",
    "import os\n",
    "for dirname, _, filenames in os.walk('/kaggle/input'):\n",
    "    for filename in filenames:\n",
    "        print(os.path.join(dirname, filename))\n",
    "\n",
    "# Any results you write to the current directory are saved as output."
   ]
  },
  {
   "cell_type": "markdown",
   "metadata": {},
   "source": [
    "We can see that the input folder contains one input file named `heart.csv`."
   ]
  },
  {
   "cell_type": "code",
   "execution_count": null,
   "metadata": {},
   "outputs": [],
   "source": [
    "import seaborn as sns\n",
    "import matplotlib.pyplot as plt\n",
    "import scipy.stats as st\n",
    "%matplotlib inline\n",
    "\n",
    "sns.set(style=\"whitegrid\")"
   ]
  },
  {
   "cell_type": "code",
   "execution_count": null,
   "metadata": {},
   "outputs": [],
   "source": [
    "# ignore warnings\n",
    "\n",
    "import warnings\n",
    "warnings.filterwarnings('ignore')"
   ]
  },
  {
   "cell_type": "markdown",
   "metadata": {},
   "source": [
    "I have imported the libraries. The next step is to import the datasets."
   ]
  },
  {
   "cell_type": "markdown",
   "metadata": {},
   "source": [
    "## 5. Import dataset <a class=\"anchor\" id=\"5\"></a>\n",
    "\n",
    "[Back to Table of Contents](#0.1)\n",
    "\n",
    "\n",
    "I will import the dataset with the usual `pandas read_csv()` function which is used to import CSV (Comma Separated Value) files.\n"
   ]
  },
  {
   "cell_type": "code",
   "execution_count": null,
   "metadata": {},
   "outputs": [],
   "source": [
    "df = pd.read_csv('/kaggle/input/heart-disease-uci/heart.csv')"
   ]
  },
  {
   "cell_type": "markdown",
   "metadata": {},
   "source": [
    "## 6. Exploratory Data Analysis <a class=\"anchor\" id=\"6\"></a>\n",
    "\n",
    "[Back to Table of Contents](#0.1)\n",
    "\n",
    "The scene has been set up. Now let the actual fun begin."
   ]
  },
  {
   "cell_type": "markdown",
   "metadata": {},
   "source": [
    "#### Check shape of the dataset <a class=\"anchor\" id=\"6.1\"></a>\n",
    "\n",
    "- It is a good idea to first check the shape of the dataset."
   ]
  },
  {
   "cell_type": "code",
   "execution_count": null,
   "metadata": {},
   "outputs": [],
   "source": [
    "# print the shape\n",
    "print('The shape of the dataset : ', df.shape)"
   ]
  },
  {
   "cell_type": "markdown",
   "metadata": {},
   "source": [
    "Now, we can see that the dataset contains 303 instances and 14 variables."
   ]
  },
  {
   "cell_type": "markdown",
   "metadata": {},
   "source": [
    "#### Preview the dataset <a class=\"anchor\" id=\"6.2\"></a>\n",
    "\n"
   ]
  },
  {
   "cell_type": "code",
   "execution_count": null,
   "metadata": {},
   "outputs": [],
   "source": [
    "# preview dataset\n",
    "df.head()"
   ]
  },
  {
   "cell_type": "markdown",
   "metadata": {},
   "source": [
    "#### Summary of dataset <a class=\"anchor\" id=\"6.3\"></a>"
   ]
  },
  {
   "cell_type": "code",
   "execution_count": null,
   "metadata": {},
   "outputs": [],
   "source": [
    "# summary of dataset\n",
    "df.info()"
   ]
  },
  {
   "cell_type": "markdown",
   "metadata": {},
   "source": [
    "#### Dataset description <a class=\"anchor\" id=\"6.4\"></a>\n",
    "\n",
    "- The dataset contains several columns which are as follows -\n",
    "\n",
    "  - age : age in years\n",
    "  - sex : (1 = male; 0 = female)\n",
    "  - cp : chest pain type\n",
    "  - trestbps : resting blood pressure (in mm Hg on admission to the hospital)\n",
    "  - chol : serum cholestoral in mg/dl\n",
    "  - fbs : (fasting blood sugar > 120 mg/dl) (1 = true; 0 = false)\n",
    "  - restecg : resting electrocardiographic results\n",
    "  - thalach : maximum heart rate achieved\n",
    "  - exang : exercise induced angina (1 = yes; 0 = no)\n",
    "  - oldpeak : ST depression induced by exercise relative to rest\n",
    "  - slope : the slope of the peak exercise ST segment\n",
    "  - ca : number of major vessels (0-3) colored by flourosopy\n",
    "  - thal : 3 = normal; 6 = fixed defect; 7 = reversable defect\n",
    "  - target : 1 or 0"
   ]
  },
  {
   "cell_type": "markdown",
   "metadata": {},
   "source": [
    "#### Check the data types of columns <a class=\"anchor\" id=\"6.5\"></a>\n",
    "\n",
    "\n",
    "- The above `df.info()` command gives us the number of filled values along with the data types of columns.\n",
    "\n",
    "- If we simply want to check the data type of a particular column, we can use the following command."
   ]
  },
  {
   "cell_type": "code",
   "execution_count": null,
   "metadata": {},
   "outputs": [],
   "source": [
    "df.dtypes"
   ]
  },
  {
   "cell_type": "markdown",
   "metadata": {},
   "source": [
    "#### Important points about dataset <a class=\"anchor\" id=\"6.6\"></a>\n",
    "\n",
    "\n",
    "- `sex` is a character variable. Its data type should be object. But it is encoded as (1 = male; 0 = female). So, its data type is given as int64.\n",
    "\n",
    "- Same is the case with several other variables - `fbs`, `exang` and `target`.\n",
    "\n",
    "- `fbs (fasting blood sugar)` should be a character variable as it contains only 0 and 1 as values (1 = true; 0 = false). As it contains only 0 and 1 as values, so its data type is given as int64.\n",
    "\n",
    "- `exang (exercise induced angina)` should also be a character variable as it contains only 0 and 1 as values (1 = yes; 0 = no). It also contains only 0 and 1 as values, so its data type is given as int64.\n",
    "\n",
    "- `target` should also be a character variable. But, it also contains 0 and 1 as values. So, its data type is given as int64.\n"
   ]
  },
  {
   "cell_type": "markdown",
   "metadata": {},
   "source": [
    "#### Statistical properties of dataset <a class=\"anchor\" id=\"6.7\"></a>"
   ]
  },
  {
   "cell_type": "code",
   "execution_count": null,
   "metadata": {},
   "outputs": [],
   "source": [
    "# statistical properties of dataset\n",
    "df.describe()"
   ]
  },
  {
   "cell_type": "markdown",
   "metadata": {},
   "source": [
    "#### Important points to note\n",
    "\n",
    "\n",
    "- The above command `df.describe()` helps us to view the statistical properties of numerical variables. It excludes character variables.\n",
    "\n",
    "- If we want to view the statistical properties of character variables, we should run the following command -\n",
    "\n",
    "     `df.describe(include=['object'])`\n",
    "     \n",
    "- If we want to view the statistical properties of all the variables, we should run the following command -\n",
    "\n",
    "     `df.describe(include='all')`      "
   ]
  },
  {
   "cell_type": "markdown",
   "metadata": {},
   "source": [
    "#### View column names <a class=\"anchor\" id=\"6.8\"></a>"
   ]
  },
  {
   "cell_type": "code",
   "execution_count": null,
   "metadata": {},
   "outputs": [],
   "source": [
    "df.columns"
   ]
  },
  {
   "cell_type": "markdown",
   "metadata": {},
   "source": [
    "## 7. Univariate analysis <a class=\"anchor\" id=\"7\"></a>\n",
    "\n",
    "\n",
    "[Back to Table of Contents](#0.1)"
   ]
  },
  {
   "cell_type": "markdown",
   "metadata": {},
   "source": [
    "### Analysis of `target` feature variable <a class=\"anchor\" id=\"7.1\"></a>\n",
    "\n",
    "\n",
    "- Our feature variable of interest is `target`.\n",
    "\n",
    "- It refers to the presence of heart disease in the patient.\n",
    "\n",
    "- It is integer valued as it contains two integers 0 and 1 - (0 stands for absence of heart disease and 1 for presence of heart disease).\n",
    "\n",
    "- So, in this section, I will analyze the `target` variable. \n",
    "\n"
   ]
  },
  {
   "cell_type": "markdown",
   "metadata": {},
   "source": [
    "#### Check the number of unique values in `target` variable"
   ]
  },
  {
   "cell_type": "code",
   "execution_count": null,
   "metadata": {},
   "outputs": [],
   "source": [
    "df['target'].nunique()"
   ]
  },
  {
   "cell_type": "markdown",
   "metadata": {},
   "source": [
    "We can see that there are 2 unique values in the `target` variable."
   ]
  },
  {
   "cell_type": "markdown",
   "metadata": {},
   "source": [
    "#### View the unique values in `target` variable"
   ]
  },
  {
   "cell_type": "code",
   "execution_count": null,
   "metadata": {},
   "outputs": [],
   "source": [
    "df['target'].unique()"
   ]
  },
  {
   "cell_type": "markdown",
   "metadata": {},
   "source": [
    "#### Comment \n",
    "\n",
    "So, the unique values are 1 and 0. (1 stands for presence of heart disease and 0 for absence of hear disease)."
   ]
  },
  {
   "cell_type": "markdown",
   "metadata": {},
   "source": [
    "#### Frequency distribution of `target` variable"
   ]
  },
  {
   "cell_type": "code",
   "execution_count": null,
   "metadata": {},
   "outputs": [],
   "source": [
    "df['target'].value_counts()"
   ]
  },
  {
   "cell_type": "markdown",
   "metadata": {},
   "source": [
    "#### Comment\n",
    "\n",
    "- `1` stands for presence of heart disease. So, there are 165 patients suffering from heart disease.\n",
    "\n",
    "- Similarly, `0` stands for absence of heart disease. So, there are 138 patients who do not have any heart disease.\n",
    "\n",
    "- We can visualize this information below."
   ]
  },
  {
   "cell_type": "markdown",
   "metadata": {},
   "source": [
    "#### Visualize frequency distribution of `target` variable"
   ]
  },
  {
   "cell_type": "code",
   "execution_count": null,
   "metadata": {},
   "outputs": [],
   "source": [
    "f, ax = plt.subplots(figsize=(8, 6))\n",
    "ax = sns.countplot(x=\"target\", data=df)\n",
    "plt.show()"
   ]
  },
  {
   "cell_type": "markdown",
   "metadata": {},
   "source": [
    "#### Interpretation\n",
    "\n",
    "\n",
    "- The above plot confirms the findings that -\n",
    "\n",
    "   - There are 165 patients suffering from heart disease, and \n",
    "   \n",
    "   - There are 138 patients who do not have any heart disease."
   ]
  },
  {
   "cell_type": "markdown",
   "metadata": {},
   "source": [
    "#### Frequency distribution of `target` variable wrt `sex`"
   ]
  },
  {
   "cell_type": "code",
   "execution_count": null,
   "metadata": {},
   "outputs": [],
   "source": [
    "df.groupby('sex')['target'].value_counts()"
   ]
  },
  {
   "cell_type": "markdown",
   "metadata": {},
   "source": [
    " #### Comment\n",
    "\n",
    "\n",
    "- `sex` variable contains two integer values 1 and 0 : (1 = male; 0 = female).\n",
    "\n",
    "- `target` variable also contains two integer values 1 and 0 : (1 = Presence of heart disease; 0 = Absence of heart disease)\n",
    "\n",
    "-  So, out of 96 females - 72 have heart disease and 24 do not have heart disease.\n",
    "\n",
    "- Similarly, out of 207 males - 93 have heart disease and 114 do not have heart disease.\n",
    "\n",
    "- We can visualize this information below.\n"
   ]
  },
  {
   "cell_type": "markdown",
   "metadata": {},
   "source": [
    "We can visualize the value counts of the `sex` variable wrt `target` as follows -"
   ]
  },
  {
   "cell_type": "code",
   "execution_count": null,
   "metadata": {},
   "outputs": [],
   "source": [
    "f, ax = plt.subplots(figsize=(8, 6))\n",
    "ax = sns.countplot(x=\"sex\", hue=\"target\", data=df)\n",
    "plt.show()"
   ]
  },
  {
   "cell_type": "markdown",
   "metadata": {},
   "source": [
    "#### Interpretation\n",
    "\n",
    "- We can see that the values of `target` variable are plotted wrt `sex` : (1 = male; 0 = female).\n",
    "\n",
    "- `target` variable also contains two integer values 1 and 0 : (1 = Presence of heart disease; 0 = Absence of heart disease)\n",
    "\n",
    "- The above plot confirms our findings that -\n",
    "\n",
    "    - Out of 96 females - 72 have heart disease and 24 do not have heart disease.\n",
    "\n",
    "    - Similarly, out of 207 males - 93 have heart disease and 114 do not have heart disease.\n"
   ]
  },
  {
   "cell_type": "markdown",
   "metadata": {},
   "source": [
    "Alternatively, we can visualize the same information as follows :"
   ]
  },
  {
   "cell_type": "code",
   "execution_count": null,
   "metadata": {},
   "outputs": [],
   "source": [
    "ax = sns.catplot(x=\"target\", col=\"sex\", data=df, kind=\"count\", height=5, aspect=1)"
   ]
  },
  {
   "cell_type": "markdown",
   "metadata": {},
   "source": [
    "#### Comment\n",
    "\n",
    "\n",
    "- The above plot segregate the values of `target` variable and plot on two different columns labelled as (sex = 0, sex = 1).\n",
    "\n",
    "- I think it is more convinient way of interpret the plots."
   ]
  },
  {
   "cell_type": "markdown",
   "metadata": {},
   "source": [
    "We can plot the bars horizontally as follows :"
   ]
  },
  {
   "cell_type": "code",
   "execution_count": null,
   "metadata": {},
   "outputs": [],
   "source": [
    "f, ax = plt.subplots(figsize=(8, 6))\n",
    "ax = sns.countplot(y=\"target\", hue=\"sex\", data=df)\n",
    "plt.show()"
   ]
  },
  {
   "cell_type": "markdown",
   "metadata": {},
   "source": [
    "We can use a different color palette as follows :"
   ]
  },
  {
   "cell_type": "code",
   "execution_count": null,
   "metadata": {},
   "outputs": [],
   "source": [
    "f, ax = plt.subplots(figsize=(8, 6))\n",
    "ax = sns.countplot(x=\"target\", data=df, palette=\"Set3\")\n",
    "plt.show()"
   ]
  },
  {
   "cell_type": "markdown",
   "metadata": {},
   "source": [
    "We can use `plt.bar` keyword arguments for a different look :"
   ]
  },
  {
   "cell_type": "code",
   "execution_count": null,
   "metadata": {},
   "outputs": [],
   "source": [
    "f, ax = plt.subplots(figsize=(8, 6))\n",
    "ax = sns.countplot(x=\"target\", data=df, facecolor=(0, 0, 0, 0), linewidth=5, edgecolor=sns.color_palette(\"dark\", 3))\n",
    "plt.show()"
   ]
  },
  {
   "cell_type": "markdown",
   "metadata": {},
   "source": [
    "#### Comment\n",
    "\n",
    "\n",
    "- I have visualize the `target` values distribution wrt `sex`. \n",
    "\n",
    "- We can follow the same principles and visualize the `target` values distribution wrt `fbs (fasting blood sugar)` and `exang (exercise induced angina)`."
   ]
  },
  {
   "cell_type": "code",
   "execution_count": null,
   "metadata": {},
   "outputs": [],
   "source": [
    "f, ax = plt.subplots(figsize=(8, 6))\n",
    "ax = sns.countplot(x=\"target\", hue=\"fbs\", data=df)\n",
    "plt.show()"
   ]
  },
  {
   "cell_type": "code",
   "execution_count": null,
   "metadata": {},
   "outputs": [],
   "source": [
    "f, ax = plt.subplots(figsize=(8, 6))\n",
    "ax = sns.countplot(x=\"target\", hue=\"exang\", data=df)\n",
    "plt.show()"
   ]
  },
  {
   "cell_type": "markdown",
   "metadata": {},
   "source": [
    "### Findings of Univariate Analysis <a class=\"anchor\" id=\"7.2\"></a>\n",
    "\n",
    "Findings of univariate analysis are as follows:-\n",
    "\n",
    "-\tOur feature variable of interest is `target`.\n",
    "\n",
    "-   It refers to the presence of heart disease in the patient.\n",
    "\n",
    "-   It is integer valued as it contains two integers 0 and 1 - (0 stands for absence of heart disease and 1 for presence of heart disease).\n",
    "\n",
    "- `1` stands for presence of heart disease. So, there are 165 patients suffering from heart disease.\n",
    "\n",
    "- Similarly, `0` stands for absence of heart disease. So, there are 138 patients who do not have any heart disease.\n",
    "\n",
    "- There are 165 patients suffering from heart disease, and \n",
    "   \n",
    "- There are 138 patients who do not have any heart disease.\n",
    "\n",
    "- Out of 96 females - 72 have heart disease and 24 do not have heart disease.\n",
    "\n",
    "- Similarly, out of 207 males - 93 have heart disease and 114 do not have heart disease.\n"
   ]
  },
  {
   "cell_type": "markdown",
   "metadata": {},
   "source": [
    "## 8. Bivariate Analysis <a class=\"anchor\" id=\"8\"></a>\n",
    "\n",
    "\n",
    "[Back to Table of Contents](#0.1)"
   ]
  },
  {
   "cell_type": "markdown",
   "metadata": {},
   "source": [
    "### Estimate correlation coefficients <a class=\"anchor\" id=\"8.1\"></a>\n",
    "\n",
    "Our dataset is very small. So, I will compute the standard correlation coefficient (also called Pearson's r) between every pair of attributes. I will compute it using the `df.corr()` method as follows:-"
   ]
  },
  {
   "cell_type": "code",
   "execution_count": null,
   "metadata": {},
   "outputs": [],
   "source": [
    "correlation = df.corr()"
   ]
  },
  {
   "cell_type": "markdown",
   "metadata": {},
   "source": [
    "The target variable is `target`. So, we should check how each attribute correlates with the `target` variable. We can do it as follows:-"
   ]
  },
  {
   "cell_type": "code",
   "execution_count": null,
   "metadata": {},
   "outputs": [],
   "source": [
    "correlation['target'].sort_values(ascending=False)"
   ]
  },
  {
   "cell_type": "markdown",
   "metadata": {},
   "source": [
    "#### Interpretation of correlation coefficient\n",
    "\n",
    "- The correlation coefficient ranges from -1 to +1. \n",
    "\n",
    "- When it is close to +1, this signifies that there is a strong positive correlation. So, we can see that there is no variable which has strong positive correlation with `target` variable.\n",
    "\n",
    "- When it is clsoe to -1, it means that there is a strong negative correlation. So, we can see that there is no variable which has strong negative correlation with `target` variable.\n",
    "\n",
    "- When it is close to 0, it means that there is no correlation. So, there is no correlation between `target` and `fbs`.\n",
    "\n",
    "- We can see that the `cp` and `thalach` variables are mildly positively correlated with `target` variable. So, I will analyze the interaction between these features and `target` variable.\n",
    "\n"
   ]
  },
  {
   "cell_type": "markdown",
   "metadata": {},
   "source": [
    "### Analysis of `target` and `cp` variable <a class=\"anchor\" id=\"8.2\"></a>"
   ]
  },
  {
   "cell_type": "markdown",
   "metadata": {},
   "source": [
    "#### Explore `cp` variable\n",
    "\n",
    "\n",
    "- `cp` stands for chest pain type.\n",
    "\n",
    "- First, I will check number of unique values in `cp` variable."
   ]
  },
  {
   "cell_type": "code",
   "execution_count": null,
   "metadata": {},
   "outputs": [],
   "source": [
    "df['cp'].nunique()"
   ]
  },
  {
   "cell_type": "markdown",
   "metadata": {},
   "source": [
    "So, there are 4 unique values in `cp` variable. Hence, it is a categorical variable."
   ]
  },
  {
   "cell_type": "markdown",
   "metadata": {},
   "source": [
    "Now, I will view its frequency distribution as follows :"
   ]
  },
  {
   "cell_type": "code",
   "execution_count": null,
   "metadata": {},
   "outputs": [],
   "source": [
    "df['cp'].value_counts()"
   ]
  },
  {
   "cell_type": "markdown",
   "metadata": {},
   "source": [
    "#### Comment\n",
    "\n",
    "- It can be seen that `cp` is a categorical variable and it contains 4 types of values - 0, 1, 2 and 3."
   ]
  },
  {
   "cell_type": "markdown",
   "metadata": {},
   "source": [
    "#### Visualize the frequency distribution of `cp` variable"
   ]
  },
  {
   "cell_type": "code",
   "execution_count": null,
   "metadata": {},
   "outputs": [],
   "source": [
    "f, ax = plt.subplots(figsize=(8, 6))\n",
    "ax = sns.countplot(x=\"cp\", data=df)\n",
    "plt.show()"
   ]
  },
  {
   "cell_type": "markdown",
   "metadata": {},
   "source": [
    "#### Frequency distribution of `target` variable wrt `cp`"
   ]
  },
  {
   "cell_type": "code",
   "execution_count": null,
   "metadata": {},
   "outputs": [],
   "source": [
    "df.groupby('cp')['target'].value_counts()"
   ]
  },
  {
   "cell_type": "markdown",
   "metadata": {},
   "source": [
    "#### Comment\n",
    "\n",
    "\n",
    "- `cp` variable contains four integer values 0, 1, 2 and 3.\n",
    "\n",
    "- `target` variable contains two integer values 1 and 0 : (1 = Presence of heart disease; 0 = Absence of heart disease)\n",
    "\n",
    "- So, the above analysis gives `target` variable values categorized into presence and absence of heart disease and groupby `cp` variable values.\n",
    "\n",
    "- We can visualize this information below."
   ]
  },
  {
   "cell_type": "markdown",
   "metadata": {},
   "source": [
    "We can visualize the value counts of the `cp` variable wrt `target` as follows -"
   ]
  },
  {
   "cell_type": "code",
   "execution_count": null,
   "metadata": {},
   "outputs": [],
   "source": [
    "f, ax = plt.subplots(figsize=(8, 6))\n",
    "ax = sns.countplot(x=\"cp\", hue=\"target\", data=df)\n",
    "plt.show()"
   ]
  },
  {
   "cell_type": "markdown",
   "metadata": {},
   "source": [
    "#### Interpretation\n",
    "\n",
    "- We can see that the values of `target` variable are plotted wrt `cp`.\n",
    "\n",
    "- `target` variable contains two integer values 1 and 0 : (1 = Presence of heart disease; 0 = Absence of heart disease)\n",
    "\n",
    "- The above plot confirms our above findings, "
   ]
  },
  {
   "cell_type": "markdown",
   "metadata": {},
   "source": [
    "Alternatively, we can visualize the same information as follows :"
   ]
  },
  {
   "cell_type": "code",
   "execution_count": null,
   "metadata": {},
   "outputs": [],
   "source": [
    "ax = sns.catplot(x=\"target\", col=\"cp\", data=df, kind=\"count\", height=8, aspect=1)"
   ]
  },
  {
   "cell_type": "markdown",
   "metadata": {},
   "source": [
    "### Analysis of `target` and `thalach` variable <a class=\"anchor\" id=\"8.3\"></a>\n"
   ]
  },
  {
   "cell_type": "markdown",
   "metadata": {},
   "source": [
    "#### Explore `thalach` variable\n",
    "\n",
    "\n",
    "- `thalach` stands for maximum heart rate achieved.\n",
    "\n",
    "- I will check number of unique values in `thalach` variable as follows :"
   ]
  },
  {
   "cell_type": "code",
   "execution_count": null,
   "metadata": {},
   "outputs": [],
   "source": [
    "df['thalach'].nunique()"
   ]
  },
  {
   "cell_type": "markdown",
   "metadata": {},
   "source": [
    "- So, number of unique values in `thalach` variable is 91. Hence, it is numerical variable.\n",
    "\n",
    "- I will visualize its frequency distribution of values as follows :"
   ]
  },
  {
   "cell_type": "markdown",
   "metadata": {},
   "source": [
    "#### Visualize the frequency distribution of `thalach` variable"
   ]
  },
  {
   "cell_type": "code",
   "execution_count": null,
   "metadata": {},
   "outputs": [],
   "source": [
    "f, ax = plt.subplots(figsize=(10,6))\n",
    "x = df['thalach']\n",
    "ax = sns.distplot(x, bins=10)\n",
    "plt.show()"
   ]
  },
  {
   "cell_type": "markdown",
   "metadata": {},
   "source": [
    "#### Comment\n",
    "\n",
    "- We can see that the `thalach` variable is slightly negatively skewed."
   ]
  },
  {
   "cell_type": "markdown",
   "metadata": {},
   "source": [
    "We can use Pandas series object to get an informative axis label as follows :"
   ]
  },
  {
   "cell_type": "code",
   "execution_count": null,
   "metadata": {},
   "outputs": [],
   "source": [
    "f, ax = plt.subplots(figsize=(10,6))\n",
    "x = df['thalach']\n",
    "x = pd.Series(x, name=\"thalach variable\")\n",
    "ax = sns.distplot(x, bins=10)\n",
    "plt.show()"
   ]
  },
  {
   "cell_type": "markdown",
   "metadata": {},
   "source": [
    "We can plot the distribution on the vertical axis as follows:-"
   ]
  },
  {
   "cell_type": "code",
   "execution_count": null,
   "metadata": {},
   "outputs": [],
   "source": [
    "f, ax = plt.subplots(figsize=(10,6))\n",
    "x = df['thalach']\n",
    "ax = sns.distplot(x, bins=10, vertical=True)\n",
    "plt.show()"
   ]
  },
  {
   "cell_type": "markdown",
   "metadata": {},
   "source": [
    "#### Seaborn Kernel Density Estimation (KDE) Plot\n",
    "\n",
    "\n",
    "- The kernel density estimate (KDE) plot is a useful tool for plotting the shape of a distribution.\n",
    "\n",
    "- The KDE plot plots the density of observations on one axis with height along the other axis.\n",
    "\n",
    "- We can plot a KDE plot as follows :"
   ]
  },
  {
   "cell_type": "code",
   "execution_count": null,
   "metadata": {},
   "outputs": [],
   "source": [
    "f, ax = plt.subplots(figsize=(10,6))\n",
    "x = df['thalach']\n",
    "x = pd.Series(x, name=\"thalach variable\")\n",
    "ax = sns.kdeplot(x)\n",
    "plt.show()"
   ]
  },
  {
   "cell_type": "markdown",
   "metadata": {},
   "source": [
    "We can shade under the density curve and use a different color as follows:"
   ]
  },
  {
   "cell_type": "code",
   "execution_count": null,
   "metadata": {},
   "outputs": [],
   "source": [
    "f, ax = plt.subplots(figsize=(10,6))\n",
    "x = df['thalach']\n",
    "x = pd.Series(x, name=\"thalach variable\")\n",
    "ax = sns.kdeplot(x, shade=True, color='r')\n",
    "plt.show()"
   ]
  },
  {
   "cell_type": "markdown",
   "metadata": {},
   "source": [
    "#### Histogram\n",
    "\n",
    "- A histogram represents the distribution of data by forming bins along the range of the data and then drawing bars to show the number of observations that fall in each bin.\n",
    "\n",
    "- We can plot a histogram as follows :"
   ]
  },
  {
   "cell_type": "code",
   "execution_count": null,
   "metadata": {},
   "outputs": [],
   "source": [
    "f, ax = plt.subplots(figsize=(10,6))\n",
    "x = df['thalach']\n",
    "ax = sns.distplot(x, kde=False, rug=True, bins=10)\n",
    "plt.show()"
   ]
  },
  {
   "cell_type": "markdown",
   "metadata": {},
   "source": [
    "#### Visualize frequency distribution of `thalach` variable wrt `target`"
   ]
  },
  {
   "cell_type": "code",
   "execution_count": null,
   "metadata": {},
   "outputs": [],
   "source": [
    "f, ax = plt.subplots(figsize=(8, 6))\n",
    "sns.stripplot(x=\"target\", y=\"thalach\", data=df)\n",
    "plt.show()"
   ]
  },
  {
   "cell_type": "markdown",
   "metadata": {},
   "source": [
    "#### Interpretation\n",
    "\n",
    "- We can see that those people suffering from heart disease (target = 1) have relatively higher heart rate (thalach) as compared to people who are not suffering from heart disease (target = 0)."
   ]
  },
  {
   "cell_type": "markdown",
   "metadata": {},
   "source": [
    "We can add jitter to bring out the distribution of values as follows :"
   ]
  },
  {
   "cell_type": "code",
   "execution_count": null,
   "metadata": {},
   "outputs": [],
   "source": [
    "f, ax = plt.subplots(figsize=(8, 6))\n",
    "sns.stripplot(x=\"target\", y=\"thalach\", data=df, jitter = 0.01)\n",
    "plt.show()"
   ]
  },
  {
   "cell_type": "markdown",
   "metadata": {},
   "source": [
    "#### Visualize distribution of `thalach` variable wrt `target` with boxplot"
   ]
  },
  {
   "cell_type": "code",
   "execution_count": null,
   "metadata": {},
   "outputs": [],
   "source": [
    "f, ax = plt.subplots(figsize=(8, 6))\n",
    "sns.boxplot(x=\"target\", y=\"thalach\", data=df)\n",
    "plt.show()"
   ]
  },
  {
   "cell_type": "markdown",
   "metadata": {},
   "source": [
    "#### Interpretation\n",
    "\n",
    "The above boxplot confirms our finding that people suffering from heart disease (target = 1) have relatively higher heart rate (thalach) as compared to people who are not suffering from heart disease (target = 0)."
   ]
  },
  {
   "cell_type": "markdown",
   "metadata": {},
   "source": [
    "### Findings of Bivariate Analysis <a class=\"anchor\" id=\"8.4\"></a>\n",
    "\n",
    "Findings of Bivariate Analysis are as follows –\n",
    "\n",
    "\n",
    "- There is no variable which has strong positive correlation with `target` variable.\n",
    "\n",
    "- There is no variable which has strong negative correlation with `target` variable.\n",
    "\n",
    "- There is no correlation between `target` and `fbs`.\n",
    "\n",
    "- The `cp` and `thalach` variables are mildly positively correlated with `target` variable. \n",
    "\n",
    "- We can see that the `thalach` variable is slightly negatively skewed.\n",
    "\n",
    "- The people suffering from heart disease (target = 1) have relatively higher heart rate (thalach) as compared to people who are not suffering from heart disease (target = 0).\n",
    "\n",
    "- The people suffering from heart disease (target = 1) have relatively higher heart rate (thalach) as compared to people who are not suffering from heart disease (target = 0).\n"
   ]
  },
  {
   "cell_type": "markdown",
   "metadata": {},
   "source": [
    "## 9. Multivariate analysis <a class=\"anchor\" id=\"9\"></a>\n",
    "\n",
    "\n",
    "[Back to Table of Contents](#0.1)\n",
    "\n",
    "\n",
    "- The objective of the multivariate analysis is to discover patterns and relationships in the dataset."
   ]
  },
  {
   "cell_type": "markdown",
   "metadata": {},
   "source": [
    "### Discover patterns and relationships\n",
    "\n",
    "- An important step in EDA is to discover patterns and relationships between variables in the dataset. \n",
    "\n",
    "- I will use `heat map` and `pair plot` to discover the patterns and relationships in the dataset.\n",
    "\n",
    "- First of all, I will draw a `heat map`."
   ]
  },
  {
   "cell_type": "markdown",
   "metadata": {},
   "source": [
    "### Heat Map <a class=\"anchor\" id=\"9.1\"></a>"
   ]
  },
  {
   "cell_type": "code",
   "execution_count": null,
   "metadata": {},
   "outputs": [],
   "source": [
    "plt.figure(figsize=(16,12))\n",
    "plt.title('Correlation Heatmap of Heart Disease Dataset')\n",
    "a = sns.heatmap(correlation, square=True, annot=True, fmt='.2f', linecolor='white')\n",
    "a.set_xticklabels(a.get_xticklabels(), rotation=90)\n",
    "a.set_yticklabels(a.get_yticklabels(), rotation=30)           \n",
    "plt.show()"
   ]
  },
  {
   "cell_type": "markdown",
   "metadata": {},
   "source": [
    "#### Interpretation\n",
    "\n",
    "From the above correlation heat map, we can conclude that :-\n",
    "\n",
    "- `target` and `cp` variable are mildly positively correlated (correlation coefficient = 0.43).\n",
    "\n",
    "- `target` and `thalach` variable are also mildly positively correlated (correlation coefficient = 0.42).\n",
    "\n",
    "- `target` and `slope` variable are weakly positively correlated (correlation coefficient = 0.35).\n",
    "\n",
    "- `target` and `exang` variable are mildly negatively correlated (correlation coefficient = -0.44).\n",
    "\n",
    "- `target` and `oldpeak` variable are also mildly negatively correlated (correlation coefficient = -0.43).\n",
    "\n",
    "- `target` and `ca` variable are weakly negatively correlated (correlation coefficient = -0.39).\n",
    "\n",
    "- `target` and `thal` variable are also waekly negatively correlated (correlation coefficient = -0.34).\n",
    "\n",
    "\n"
   ]
  },
  {
   "cell_type": "markdown",
   "metadata": {},
   "source": [
    "### Pair Plot <a class=\"anchor\" id=\"9.2\"></a>"
   ]
  },
  {
   "cell_type": "code",
   "execution_count": null,
   "metadata": {},
   "outputs": [],
   "source": [
    "num_var = ['age', 'trestbps', 'chol', 'thalach', 'oldpeak', 'target' ]\n",
    "sns.pairplot(df[num_var], kind='scatter', diag_kind='hist')\n",
    "plt.show()\n"
   ]
  },
  {
   "cell_type": "markdown",
   "metadata": {},
   "source": [
    "#### Comment\n",
    "\n",
    "\n",
    "- I have defined a variable `num_var`. Here `age`, `trestbps`, ``chol`, `thalach` and `oldpeak`` are numerical variables and `target` is the categorical variable.\n",
    "\n",
    "- So, I wll check relationships between these variables."
   ]
  },
  {
   "cell_type": "markdown",
   "metadata": {},
   "source": [
    "### Analysis of `age` and other variables"
   ]
  },
  {
   "cell_type": "markdown",
   "metadata": {},
   "source": [
    "#### Check the number of unique values in `age` variable"
   ]
  },
  {
   "cell_type": "code",
   "execution_count": null,
   "metadata": {},
   "outputs": [],
   "source": [
    "df['age'].nunique()"
   ]
  },
  {
   "cell_type": "markdown",
   "metadata": {},
   "source": [
    "#### View statistical summary of `age` variable"
   ]
  },
  {
   "cell_type": "code",
   "execution_count": null,
   "metadata": {},
   "outputs": [],
   "source": [
    "df['age'].describe()"
   ]
  },
  {
   "cell_type": "markdown",
   "metadata": {},
   "source": [
    "#### Interpretation\n",
    "\n",
    "- The mean value of the `age` variable is 54.37 years.\n",
    "\n",
    "- The minimum and maximum values of `age` are 29 and 77 years."
   ]
  },
  {
   "cell_type": "markdown",
   "metadata": {},
   "source": [
    "#### Plot the distribution of `age` variable\n",
    "\n",
    "Now, I will plot the distribution of `age` variable to view the statistical properties."
   ]
  },
  {
   "cell_type": "code",
   "execution_count": null,
   "metadata": {},
   "outputs": [],
   "source": [
    "f, ax = plt.subplots(figsize=(10,6))\n",
    "x = df['age']\n",
    "ax = sns.distplot(x, bins=10)\n",
    "plt.show()"
   ]
  },
  {
   "cell_type": "markdown",
   "metadata": {},
   "source": [
    "#### Interpretation\n",
    "\n",
    "- The `age` variable distribution is approximately normal."
   ]
  },
  {
   "cell_type": "markdown",
   "metadata": {},
   "source": [
    "### Analyze `age` and `target` variable"
   ]
  },
  {
   "cell_type": "markdown",
   "metadata": {},
   "source": [
    "#### Visualize frequency distribution of `age` variable wrt `target`"
   ]
  },
  {
   "cell_type": "code",
   "execution_count": null,
   "metadata": {},
   "outputs": [],
   "source": [
    "f, ax = plt.subplots(figsize=(8, 6))\n",
    "sns.stripplot(x=\"target\", y=\"age\", data=df)\n",
    "plt.show()"
   ]
  },
  {
   "cell_type": "markdown",
   "metadata": {},
   "source": [
    "#### Interpretation\n",
    "\n",
    "- We can see that the people suffering from heart disease (target = 1) and people who are not suffering from heart disease (target = 0) have comparable ages."
   ]
  },
  {
   "cell_type": "markdown",
   "metadata": {},
   "source": [
    "#### Visualize distribution of `age` variable wrt `target` with boxplot"
   ]
  },
  {
   "cell_type": "code",
   "execution_count": null,
   "metadata": {},
   "outputs": [],
   "source": [
    "f, ax = plt.subplots(figsize=(8, 6))\n",
    "sns.boxplot(x=\"target\", y=\"age\", data=df)\n",
    "plt.show()"
   ]
  },
  {
   "cell_type": "markdown",
   "metadata": {},
   "source": [
    "#### Interpretation\n",
    "\n",
    "- The above boxplot tells two different things :\n",
    "\n",
    "  - The mean age of the people who have heart disease is less than the mean age of the people who do not have heart disease.\n",
    "  \n",
    "  - The dispersion or spread of age of the people who have heart disease is greater than the dispersion or spread of age of the people who do not have heart disease.\n"
   ]
  },
  {
   "cell_type": "markdown",
   "metadata": {},
   "source": [
    "### Analyze `age` and `trestbps` variable\n",
    "\n"
   ]
  },
  {
   "cell_type": "markdown",
   "metadata": {},
   "source": [
    "I will plot a scatterplot to visualize the relationship between `age` and `trestbps` variable."
   ]
  },
  {
   "cell_type": "code",
   "execution_count": null,
   "metadata": {},
   "outputs": [],
   "source": [
    "f, ax = plt.subplots(figsize=(8, 6))\n",
    "ax = sns.scatterplot(x=\"age\", y=\"trestbps\", data=df)\n",
    "plt.show()\n"
   ]
  },
  {
   "cell_type": "markdown",
   "metadata": {},
   "source": [
    "#### Interpretation\n",
    "\n",
    "- The above scatter plot shows that there is no correlation between `age` and `trestbps` variable."
   ]
  },
  {
   "cell_type": "code",
   "execution_count": null,
   "metadata": {},
   "outputs": [],
   "source": [
    "f, ax = plt.subplots(figsize=(8, 6))\n",
    "ax = sns.regplot(x=\"age\", y=\"trestbps\", data=df)\n",
    "plt.show()"
   ]
  },
  {
   "cell_type": "markdown",
   "metadata": {},
   "source": [
    "#### Interpretation\n",
    "\n",
    "- The above line shows that linear regression model is not good fit to the data."
   ]
  },
  {
   "cell_type": "markdown",
   "metadata": {},
   "source": [
    "### Analyze `age` and `chol` variable"
   ]
  },
  {
   "cell_type": "code",
   "execution_count": null,
   "metadata": {},
   "outputs": [],
   "source": [
    "f, ax = plt.subplots(figsize=(8, 6))\n",
    "ax = sns.scatterplot(x=\"age\", y=\"chol\", data=df)\n",
    "plt.show()"
   ]
  },
  {
   "cell_type": "code",
   "execution_count": null,
   "metadata": {},
   "outputs": [],
   "source": [
    "f, ax = plt.subplots(figsize=(8, 6))\n",
    "ax = sns.regplot(x=\"age\", y=\"chol\", data=df)\n",
    "plt.show()"
   ]
  },
  {
   "cell_type": "markdown",
   "metadata": {},
   "source": [
    "#### Interpretation\n",
    "\n",
    "- The above plot confirms that there is a slighly positive correlation between `age` and `chol` variables."
   ]
  },
  {
   "cell_type": "markdown",
   "metadata": {},
   "source": [
    "### Analyze `chol` and `thalach` variable"
   ]
  },
  {
   "cell_type": "code",
   "execution_count": null,
   "metadata": {},
   "outputs": [],
   "source": [
    "f, ax = plt.subplots(figsize=(8, 6))\n",
    "ax = sns.scatterplot(x=\"chol\", y = \"thalach\", data=df)\n",
    "plt.show()"
   ]
  },
  {
   "cell_type": "code",
   "execution_count": null,
   "metadata": {},
   "outputs": [],
   "source": [
    "f, ax = plt.subplots(figsize=(8, 6))\n",
    "ax = sns.regplot(x=\"chol\", y=\"thalach\", data=df)\n",
    "plt.show()"
   ]
  },
  {
   "cell_type": "markdown",
   "metadata": {},
   "source": [
    "#### Interpretation\n",
    "\n",
    "\n",
    "- The above plot shows that there is no correlation between `chol` and `thalach` variable."
   ]
  },
  {
   "cell_type": "markdown",
   "metadata": {},
   "source": [
    "## 10. Dealing with missing values <a class=\"anchor\" id=\"10\"></a>\n",
    "\n",
    "[Back to Table of Contents](#0.1)\n",
    "\n",
    "\n",
    "-\tIn Pandas missing data is represented by two values:\n",
    "\n",
    "  -\t**None**: None is a Python singleton object that is often used for missing data in Python code.\n",
    "  \n",
    "  -\t**NaN** : NaN (an acronym for Not a Number), is a special floating-point value recognized by all systems that use the standard IEEE floating-point representation.\n",
    "\n",
    "\n",
    "-  There are different methods in place on how to detect missing values.\n",
    "\n",
    "\n",
    "### Pandas isnull() and notnull() functions <a class=\"anchor\" id=\"10.1\"></a>\n",
    "\n",
    "\n",
    "- Pandas offers two functions to test for missing data - `isnull()` and `notnull()`. These are simple functions that return a boolean value indicating whether the passed in argument value is in fact missing data.\n",
    "\n",
    "-  Below, I will list some useful commands to deal with missing values.\n",
    "\n",
    "\n",
    "### Useful commands to detect missing values <a class=\"anchor\" id=\"10.2\"></a>\n",
    "\n",
    "-\t**df.isnull()**\n",
    "\n",
    "The above command checks whether each cell in a dataframe contains missing values or not. If the cell contains missing value, it returns True otherwise it returns False.\n",
    "\n",
    "\n",
    "-\t**df.isnull().sum()**\n",
    "\n",
    "The above command returns total number of missing values in each column in the dataframe.\n",
    "\n",
    "\n",
    "-\t**df.isnull().sum().sum()** \n",
    "\n",
    "It returns total number of missing values in the dataframe.\n",
    "\n",
    "\n",
    "-\t**df.isnull().mean()**\n",
    "\n",
    "It returns percentage of missing values in each column in the dataframe.\n",
    "\n",
    "\n",
    "-\t**df.isnull().any()**\n",
    "\n",
    "It checks which column has null values and which has not. The columns which has null values returns TRUE and FALSE otherwise.\n",
    "\n",
    "-\t**df.isnull().any().any()**\n",
    "\n",
    "It returns a boolean value indicating whether the dataframe has missing values or not. If dataframe contains missing values it returns TRUE and FALSE otherwise.\n",
    "\n",
    "\n",
    "-\t**df.isnull().values.any()**\n",
    "\n",
    "It checks whether a particular column has missing values or not. If the column contains missing values, then it returns TRUE otherwise FALSE.\n",
    "\n",
    "\n",
    "-\t**df.isnull().values.sum()**\n",
    "\n",
    "\n",
    "It returns the total number of missing values in the dataframe.\n",
    "\n"
   ]
  },
  {
   "cell_type": "code",
   "execution_count": null,
   "metadata": {},
   "outputs": [],
   "source": [
    "# check for missing values\n",
    "\n",
    "df.isnull().sum()"
   ]
  },
  {
   "cell_type": "markdown",
   "metadata": {},
   "source": [
    "#### Interpretation\n",
    "\n",
    "We can see that there are no missing values in the dataset."
   ]
  },
  {
   "cell_type": "markdown",
   "metadata": {},
   "source": [
    "## 11. Check with ASSERT statement <a class=\"anchor\" id=\"11\"></a>\n",
    "\n",
    "\n",
    "[Back to Table of Contents](#0.1)\n",
    "\n",
    "\n",
    "- We must confirm that our dataset has no missing values. \n",
    "\n",
    "- We can write an **assert statement** to verify this. \n",
    "\n",
    "- We can use an assert statement to programmatically check that no missing, unexpected 0 or negative values are present. \n",
    "\n",
    "- This gives us confidence that our code is running properly.\n",
    "\n",
    "- **Assert statement** will return nothing if the value being tested is true and will throw an AssertionError if the value is false.\n",
    "\n",
    "- **Asserts**\n",
    "\n",
    "  - assert 1 == 1 (return Nothing if the value is True)\n",
    "\n",
    "  - assert 1 == 2 (return AssertionError if the value is False)"
   ]
  },
  {
   "cell_type": "code",
   "execution_count": null,
   "metadata": {},
   "outputs": [],
   "source": [
    "#assert that there are no missing values in the dataframe\n",
    "\n",
    "assert pd.notnull(df).all().all()\n"
   ]
  },
  {
   "cell_type": "code",
   "execution_count": null,
   "metadata": {},
   "outputs": [],
   "source": [
    "#assert all values are greater than or equal to 0\n",
    "\n",
    "assert (df >= 0).all().all()\n"
   ]
  },
  {
   "cell_type": "markdown",
   "metadata": {},
   "source": [
    "#### Interpretation\n",
    "\n",
    "- The above two commands do not throw any error. Hence, it is confirmed that there are no missing or negative values in the dataset. \n",
    "\n",
    "- All the values are greater than or equal to zero."
   ]
  },
  {
   "cell_type": "markdown",
   "metadata": {},
   "source": [
    "## 12. Outlier detection <a class=\"anchor\" id=\"12\"></a>\n",
    "\n",
    "[Back to Table of Contents](#0.1)"
   ]
  },
  {
   "cell_type": "markdown",
   "metadata": {},
   "source": [
    "I will make boxplots to visualise outliers in the continuous numerical variables : -\n",
    "\n",
    "`age`, `trestbps`, `chol`, `thalach` and  `oldpeak` variables.\n"
   ]
  },
  {
   "cell_type": "markdown",
   "metadata": {},
   "source": [
    "### `age` variable"
   ]
  },
  {
   "cell_type": "code",
   "execution_count": null,
   "metadata": {},
   "outputs": [],
   "source": [
    "df['age'].describe()"
   ]
  },
  {
   "cell_type": "markdown",
   "metadata": {},
   "source": [
    "#### Box-plot of `age` variable"
   ]
  },
  {
   "cell_type": "code",
   "execution_count": null,
   "metadata": {},
   "outputs": [],
   "source": [
    "f, ax = plt.subplots(figsize=(8, 6))\n",
    "sns.boxplot(x=df[\"age\"])\n",
    "plt.show()"
   ]
  },
  {
   "cell_type": "markdown",
   "metadata": {},
   "source": [
    "### `trestbps` variable"
   ]
  },
  {
   "cell_type": "code",
   "execution_count": null,
   "metadata": {},
   "outputs": [],
   "source": [
    "df['trestbps'].describe()"
   ]
  },
  {
   "cell_type": "markdown",
   "metadata": {},
   "source": [
    "#### Box-plot of `trestbps` variable"
   ]
  },
  {
   "cell_type": "code",
   "execution_count": null,
   "metadata": {},
   "outputs": [],
   "source": [
    "f, ax = plt.subplots(figsize=(8, 6))\n",
    "sns.boxplot(x=df[\"trestbps\"])\n",
    "plt.show()\n"
   ]
  },
  {
   "cell_type": "markdown",
   "metadata": {},
   "source": [
    "### `chol` variable"
   ]
  },
  {
   "cell_type": "code",
   "execution_count": null,
   "metadata": {},
   "outputs": [],
   "source": [
    "df['chol'].describe()"
   ]
  },
  {
   "cell_type": "markdown",
   "metadata": {},
   "source": [
    "#### Box-plot of `chol` variable"
   ]
  },
  {
   "cell_type": "code",
   "execution_count": null,
   "metadata": {},
   "outputs": [],
   "source": [
    "f, ax = plt.subplots(figsize=(8, 6))\n",
    "sns.boxplot(x=df[\"chol\"])\n",
    "plt.show()\n"
   ]
  },
  {
   "cell_type": "markdown",
   "metadata": {},
   "source": [
    "### `thalach` variable"
   ]
  },
  {
   "cell_type": "code",
   "execution_count": null,
   "metadata": {},
   "outputs": [],
   "source": [
    "df['thalach'].describe()"
   ]
  },
  {
   "cell_type": "markdown",
   "metadata": {},
   "source": [
    "#### Box-plot of `thalach` variable"
   ]
  },
  {
   "cell_type": "code",
   "execution_count": null,
   "metadata": {},
   "outputs": [],
   "source": [
    "f, ax = plt.subplots(figsize=(8, 6))\n",
    "sns.boxplot(x=df[\"thalach\"])\n",
    "plt.show()"
   ]
  },
  {
   "cell_type": "markdown",
   "metadata": {},
   "source": [
    "### `oldpeak` variable"
   ]
  },
  {
   "cell_type": "code",
   "execution_count": null,
   "metadata": {},
   "outputs": [],
   "source": [
    "df['oldpeak'].describe()"
   ]
  },
  {
   "cell_type": "markdown",
   "metadata": {},
   "source": [
    "#### Box-plot of `oldpeak` variable"
   ]
  },
  {
   "cell_type": "code",
   "execution_count": null,
   "metadata": {},
   "outputs": [],
   "source": [
    "f, ax = plt.subplots(figsize=(8, 6))\n",
    "sns.boxplot(x=df[\"oldpeak\"])\n",
    "plt.show()\n"
   ]
  },
  {
   "cell_type": "markdown",
   "metadata": {},
   "source": [
    "#### Findings\n",
    "\n",
    "- The `age` variable does not contain any outlier.\n",
    "\n",
    "- `trestbps` variable contains outliers to the right side.\n",
    "\n",
    "- `chol` variable also contains outliers to the right side.\n",
    "\n",
    "- `thalach` variable contains a single outlier to the left side.\n",
    "\n",
    "- `oldpeak` variable contains outliers to the right side.\n",
    "\n",
    "- Those variables containing outliers needs further investigation.\n"
   ]
  },
  {
   "cell_type": "markdown",
   "metadata": {},
   "source": [
    "## 13. Conclusion <a class=\"anchor\" id=\"13\"></a>\n",
    "\n",
    "\n",
    "[Back to Table of Contents](#0.1)"
   ]
  },
  {
   "cell_type": "markdown",
   "metadata": {},
   "source": [
    "So, friends, our EDA journey has come to an end.\n",
    "\n",
    "In this kernel, we have explored the heart disease dataset. In this kernel, we have implemented many of the strategies presented in the book **Think Stats - Exploratory Data Analysis in Python by Allen B Downey** . The feature variable of interest is `target` variable. We have analyzed it alone and check its interaction with other variables. We have also discussed how to detect missing data and outliers.\n",
    "\n",
    "I hope you like this kernel on EDA journey.\n",
    "\n",
    "Thanks\n"
   ]
  },
  {
   "cell_type": "markdown",
   "metadata": {},
   "source": [
    "## 14. References <a class=\"anchor\" id=\"14\"></a>\n",
    "\n",
    "[Back to Table of Contents](#0.1)\n",
    "\n",
    "\n",
    "The following references are used to create this kernel\n",
    "\n",
    "\n",
    "- Think Stats - Exploratory Data Analysis in Python by Allen B Downey\n",
    "\n",
    "- [Seaborn API reference](http://seaborn.pydata.org/api.html)\n",
    "\n",
    "- [My other kernel](https://www.kaggle.com/prashant111/comprehensive-seaborn-tutorial-for-beginners)"
   ]
  },
  {
   "cell_type": "markdown",
   "metadata": {},
   "source": [
    "[Go to Top](#0)\n"
   ]
  }
 ],
 "metadata": {
  "kernelspec": {
   "display_name": "Python 3",
   "language": "python",
   "name": "python3"
  },
  "language_info": {
   "codemirror_mode": {
    "name": "ipython",
    "version": 3
   },
   "file_extension": ".py",
   "mimetype": "text/x-python",
   "name": "python",
   "nbconvert_exporter": "python",
   "pygments_lexer": "ipython3",
   "version": "3.6.10"
  }
 },
 "nbformat": 4,
 "nbformat_minor": 1
}
